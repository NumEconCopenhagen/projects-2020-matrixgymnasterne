{
 "cells": [
  {
   "cell_type": "markdown",
   "metadata": {},
   "source": [
    "# The Solow model with human capital"
   ]
  },
  {
   "cell_type": "markdown",
   "metadata": {},
   "source": [
    "> **Note the following:** \n",
    "> 1. This is *not* meant to be an example of an actual **model analysis project**, just an example of how to structure such a project.\n",
    "> 1. Remember the general advice on structuring and commenting your code from [lecture 5](https://numeconcopenhagen.netlify.com/lectures/Workflow_and_debugging).\n",
    "> 1. Remember this [guide](https://www.markdownguide.org/basic-syntax/) on markdown and (a bit of) latex.\n",
    "> 1. Turn on automatic numbering by clicking on the small icon on top of the table of contents in the left sidebar.\n",
    "> 1. The `modelproject.py` file includes a function which could be used multiple times in this notebook."
   ]
  },
  {
   "cell_type": "markdown",
   "metadata": {},
   "source": [
    "Imports and set magics:"
   ]
  },
  {
   "cell_type": "code",
   "execution_count": 452,
   "metadata": {},
   "outputs": [
    {
     "name": "stdout",
     "output_type": "stream",
     "text": [
      "The autoreload extension is already loaded. To reload it, use:\n",
      "  %reload_ext autoreload\n"
     ]
    }
   ],
   "source": [
    "import numpy as np\n",
    "from scipy import optimize\n",
    "import sympy as sm\n",
    "from sympy import Symbol\n",
    "from sympy.solvers import solve\n",
    "sm.init_printing(use_unicode=True) # for pretty printing\n",
    "from IPython.display import display\n",
    "import matplotlib.pyplot as plt # baseline modul\n",
    "\n",
    "# autoreload modules when code is run\n",
    "%load_ext autoreload\n",
    "%autoreload 2\n",
    "\n",
    "# local modules\n",
    "import modelproject"
   ]
  },
  {
   "cell_type": "markdown",
   "metadata": {
    "toc-hr-collapsed": true
   },
   "source": [
    "# Model description"
   ]
  },
  {
   "cell_type": "markdown",
   "metadata": {},
   "source": [
    "We consider the **Solow model with human capital** where:\n",
    "\n",
    "* $K_t$ is capital\n",
    "* $L_t$ is labor\n",
    "* $A_t$ is technology\n",
    "* $H_t$ is human capital\n",
    "* $Y_t = F(K_t,H_t,A_tL_t)$ is GDP\n",
    "\n",
    "**GDP** is defined as\n",
    "\n",
    "$ Y_{t}=K_{t}^{\\alpha}H_{t}^{\\varphi}(A_{t}L_{t})^{1-\\alpha-\\varphi} $\n",
    "\n",
    "The **real interest rate** consists of\n",
    "\n",
    "$ r_{t}=\\alpha\\left(\\dfrac{K_{t}}{A_{t}L_{t}}\\right)^{\\alpha-1}\\left(\\dfrac{H_{t}}{A_{t}L_{t}}\\right)^{\\varphi} $\n",
    "\n",
    "The **real wage** consists of\n",
    "\n",
    "$ r_{t}=\\alpha\\left(\\dfrac{K_{t}}{A_{t}L_{t}}\\right)^{\\alpha}\\left(\\dfrac{H_{t}}{A_{t}L_{t}}\\right)^{\\varphi}A_t $\n",
    "\n",
    "\n",
    "**Saving** is a constant fraction of GDP\n",
    "\n",
    "$ S_t = (s_H+s_K)Y_t,\\,s\\in(0,1) $\n",
    "\n",
    "such that **capital accumulates** according to\n",
    "\n",
    "$ K_{t+1}=s_{K}Y_t+(1-\\delta)K_{t}=sF(K_{t},H_{t},A_{t}L_{t})+(1-\\delta)K_{t}, \\delta \\in (0,1) $\n",
    "\n",
    "and **human capital accumulates** according to\n",
    "\n",
    "$ H_{t+1} = s_{H}Y_t+(1-\\delta)H_t $\n",
    "\n",
    "**Labour and technology accoumulates** as\n",
    "\n",
    "$ L_{t+1} = (1+n)L_t $\n",
    "\n",
    "$ A_{t+1} = (1+g)A_t $\n",
    "\n",
    "The **transition equations** then becomes\n",
    "\n",
    "$ \\tilde{k}_{t+1}= \\frac{1}{(1+n)(1+g)}[s_K\\tilde{k}_{t}^{\\alpha}\\tilde{h}_{t}^{\\varphi}+(1-\\delta)\\tilde{k}_{t}] $\n",
    "\n",
    "$ \\tilde{h}_{t+1}= \\frac{1}{(1+n)(1+g)}[s_H\\tilde{k}_{t}^{\\alpha}\\tilde{h}_{t}^{\\varphi}+(1-\\delta)\\tilde{h}_{t}] $\n",
    "\n",
    "\n",
    "where $\\tilde{k}_{t}= \\dfrac{K_t}{A_tL_t}$"
   ]
  },
  {
   "cell_type": "markdown",
   "metadata": {},
   "source": [
    "# Steady state"
   ]
  },
  {
   "cell_type": "markdown",
   "metadata": {},
   "source": [
    "## Analytical solution"
   ]
  },
  {
   "cell_type": "markdown",
   "metadata": {},
   "source": [
    "We use **sympy** to find an analytical expression for the steady state, i.e. solve\n",
    "\n",
    "$$ \\tilde{k}^{\\ast}= \\frac{1}{(1+n)(1+g)}[s_K\\tilde{k}^{\\alpha\\ast}\\tilde{h}_{t}^{\\varphi\\ast}+(1-\\delta)\\tilde{k}^{\\ast}] $$\n",
    "\n",
    "and\n",
    "\n",
    "$$ \\tilde{h}^{\\ast}= \\frac{1}{(1+n)(1+g)}[s_K\\tilde{k}^{\\alpha\\ast}\\tilde{h}_{t}^{\\varphi\\ast}+(1-\\delta)\\tilde{h}^{\\ast}] $$"
   ]
  },
  {
   "cell_type": "markdown",
   "metadata": {},
   "source": [
    "First we define all **symbols**:"
   ]
  },
  {
   "cell_type": "code",
   "execution_count": 453,
   "metadata": {},
   "outputs": [],
   "source": [
    "k = sm.symbols('k')\n",
    "h = sm.symbols('h')\n",
    "alpha = sm.symbols('alpha')\n",
    "phi = sm.symbols('phi')\n",
    "delta = sm.symbols('delta')\n",
    "sh = sm.symbols('sh')\n",
    "sk = sm.symbols('sk')\n",
    "g = sm.symbols('g')\n",
    "n = sm.symbols('n')"
   ]
  },
  {
   "cell_type": "markdown",
   "metadata": {},
   "source": [
    "Then we define the **steady state equations**"
   ]
  },
  {
   "cell_type": "code",
   "execution_count": 454,
   "metadata": {},
   "outputs": [],
   "source": [
    "ss1 = sm.Eq(k,(sk*k**alpha*h**phi+(1-delta)*k)/((1+n)*(1+g)))\n",
    "ss2 = sm.Eq(h,(sh*k**alpha*h**phi+(1-delta)*h)/((1+n)*(1+g)))"
   ]
  },
  {
   "cell_type": "markdown",
   "metadata": {},
   "source": [
    "and **solve** it"
   ]
  },
  {
   "cell_type": "code",
   "execution_count": 455,
   "metadata": {},
   "outputs": [
    {
     "data": {
      "image/png": "[encoded data removed]",
      "text/latex": [
       "$\\displaystyle \\left( sh^{- \\frac{\\phi}{\\alpha + \\phi - 1}} \\left(sk^{\\phi - 1} \\left(\\delta + g n + g + n\\right)\\right)^{\\frac{1}{\\alpha + \\phi - 1}}, \\  \\left(\\frac{\\left(sh^{- \\frac{\\phi}{\\alpha + \\phi - 1}} \\left(sk^{\\phi - 1} \\left(\\delta + g n + g + n\\right)\\right)^{\\frac{1}{\\alpha + \\phi - 1}}\\right)^{- \\alpha} \\left(\\delta + g n + g + n\\right)}{sh}\\right)^{\\frac{1}{\\phi - 1}}\\right)$"
      ],
      "text/plain": [
       "⎛                                                                             \n",
       "⎜                                                                             \n",
       "⎜                                                                             \n",
       "⎜                                                  ⎛                          \n",
       "⎜                                                  ⎜⎛                         \n",
       "⎜                                           1      ⎜⎜     -φ                  \n",
       "⎜     -φ                                ─────────  ⎜⎜  ─────────              \n",
       "⎜  ─────────                            α + φ - 1  ⎜⎜  α + φ - 1 ⎛  φ - 1     \n",
       "⎜  α + φ - 1 ⎛  φ - 1                  ⎞           ⎜⎝sh         ⋅⎝sk     ⋅(δ +\n",
       "⎜sh         ⋅⎝sk     ⋅(δ + g⋅n + g + n)⎠         , ⎜──────────────────────────\n",
       "⎝                                                  ⎝                          \n",
       "\n",
       "                                               1  ⎞\n",
       "                                             ─────⎟\n",
       "                                             φ - 1⎟\n",
       "                        -α                  ⎞     ⎟\n",
       "                  1    ⎞                    ⎟     ⎟\n",
       "              ─────────⎟                    ⎟     ⎟\n",
       "              α + φ - 1⎟                    ⎟     ⎟\n",
       "             ⎞         ⎟                    ⎟     ⎟\n",
       " g⋅n + g + n)⎠         ⎠  ⋅(δ + g⋅n + g + n)⎟     ⎟\n",
       "────────────────────────────────────────────⎟     ⎟\n",
       "        sh                                  ⎠     ⎠"
      ]
     },
     "metadata": {},
     "output_type": "display_data"
    }
   ],
   "source": [
    "sss = sm.solve((ss1, ss2),(k,h))[0]\n",
    "display(sss)"
   ]
  },
  {
   "cell_type": "markdown",
   "metadata": {},
   "source": [
    "Which can be reduced to:"
   ]
  },
  {
   "cell_type": "markdown",
   "metadata": {},
   "source": [
    "$$\\tilde{k}^{\\ast}=\\left(\\dfrac{s_K^{1-\\varphi}s_H^{\\varphi}}{n+g+\\delta+ng}\\right)^{\\frac{1}{1-\\alpha-\\varphi}}$$\n",
    "\n",
    "and\n",
    "\n",
    "$$\\tilde{h}^{\\ast}=\\left(\\dfrac{s_K^{\\alpha}s_H^{1-\\alpha}}{n+g+\\delta+ng}\\right)^{\\frac{1}{1-\\alpha-\\varphi}}$$"
   ]
  },
  {
   "cell_type": "markdown",
   "metadata": {},
   "source": [
    "We turn the solution into a Python funciton"
   ]
  },
  {
   "cell_type": "code",
   "execution_count": 456,
   "metadata": {},
   "outputs": [],
   "source": [
    "ss_func = sm.lambdify((sh,sk,g,n,alpha,phi,delta),sss)"
   ]
  },
  {
   "cell_type": "markdown",
   "metadata": {},
   "source": [
    "## Numerical solution"
   ]
  },
  {
   "cell_type": "markdown",
   "metadata": {},
   "source": [
    "We can re-write the equation for the steady state capital and human capital per capita as\n",
    "\n",
    "\\\\[ 0 = \\left(\\dfrac{s_K^{1-\\varphi}s_H^{\\varphi}}{n+g+\\delta+ng}\\right)^{\\frac{1}{1-\\alpha-\\varphi}} - \\tilde{k}^{\\ast} \\\\]\n",
    "\n",
    "\\\\[ 0 = \\left(\\dfrac{s_K^{\\alpha}s_H^{1-\\alpha}}{n+g+\\delta+ng}\\right)^{\\frac{1}{1-\\alpha-\\varphi}} - \\tilde{h}^{\\ast} \\\\]\n",
    "\n",
    "\n",
    "whereby it clearly becomes a **root-finding problem**. Such a problem can be solved by a **bisection method**."
   ]
  },
  {
   "cell_type": "markdown",
   "metadata": {},
   "source": [
    "Define the model **parameters**:"
   ]
  },
  {
   "cell_type": "code",
   "execution_count": 457,
   "metadata": {},
   "outputs": [],
   "source": [
    "sh = 0.1\n",
    "sk = 0.1\n",
    "g = 0.02\n",
    "n = 0.01\n",
    "alpha = 1/3\n",
    "phi = 1/3\n",
    "delta = 0.1"
   ]
  },
  {
   "cell_type": "markdown",
   "metadata": {},
   "source": [
    "**Solve numerically** for the steady state:"
   ]
  },
  {
   "cell_type": "code",
   "execution_count": 458,
   "metadata": {},
   "outputs": [],
   "source": [
    "def h_func(k,sh,sk,g,n,alpha,phi,delta,h):\n",
    "    return 1/((1+n)*(1+g))*(sh*k**(alpha)*h**(phi)+(1-delta)*h)-h\n",
    "\n",
    "def k_func(h,sh,sk,g,n,alpha,phi,delta,k):\n",
    "    return 1/((1+n)*(1+g))*(sk*k**(alpha)*h**(phi)+(1-delta)*k)-k\n",
    "\n",
    "obj1 = lambda x: [h_func(x[1],sh,sk,g,n,alpha,phi,delta,x[0]),k_func(x[0],sh,sk,g,n,alpha,phi,delta,x[1])]\n",
    "\n",
    "sol= optimize.root(obj1,[1,1],method='broyden1')\n"
   ]
  },
  {
   "cell_type": "code",
   "execution_count": 459,
   "metadata": {},
   "outputs": [
    {
     "name": "stdout",
     "output_type": "stream",
     "text": [
      "Analytical solution is: k* = 0.453, h* = 0.453\n",
      "Numerical solution is: k* = 0.453, h* = 0.453\n"
     ]
    }
   ],
   "source": [
    "analSolution = ss_func(sh,sk,g,n,alpha,phi,delta)\n",
    "nummiSolution = sol.x\n",
    "\n",
    "print(f'Analytical solution is: k* = {analSolution[0]:.3f}, h* = {analSolution[1]:.3f}')\n",
    "print(f'Numerical solution is: k* = {nummiSolution[1]:.3f}, h* = {nummiSolution[0]:.3f}')\n"
   ]
  },
  {
   "cell_type": "markdown",
   "metadata": {},
   "source": [
    "# Further analysis"
   ]
  },
  {
   "cell_type": "code",
   "execution_count": 460,
   "metadata": {},
   "outputs": [
    {
     "data": {
      "image/png": "[encoded data removed]",
      "text/plain": [
       "<Figure size 936x360 with 1 Axes>"
      ]
     },
     "metadata": {
      "needs_background": "light"
     },
     "output_type": "display_data"
    }
   ],
   "source": [
    "def solve_ss(sh,sk,g,n,alpha,phi,delta):\n",
    "\n",
    "    # a. grids\n",
    "    k_vec = np.linspace(1e-4,3,500)\n",
    "    h_vec_DeltaK0 = np.empty(500)\n",
    "    h_vec_DeltaH0  = np.empty(500)\n",
    "    \n",
    "    # b. solve for each m2 in grid\n",
    "    for i,k in enumerate(k_vec):\n",
    "        #Solve for delta_h=0\n",
    "        \n",
    "        # i. objective\n",
    "        obj = lambda h: -h_func(k,sh,sk,g,n,alpha,phi,delta,h)\n",
    "\n",
    "        # iii. optimizer\n",
    "        result = optimize.root_scalar(obj,method='brentq',bracket=[1e-20,50])\n",
    "        \n",
    "        h_vec_DeltaH0[i] = result.root\n",
    "\n",
    "       \n",
    "        #Solve for delta_k=0\n",
    "        # i. objective\n",
    "        obj = lambda h: -k_func(h,sh,sk,g,n,alpha,phi,delta,k)\n",
    "\n",
    "        # iii. optimizer\n",
    "        result = optimize.root_scalar(obj,method='brentq',bracket=[1e-20,50])\n",
    "\n",
    "        h_vec_DeltaK0[i] = result.root\n",
    "\n",
    "    return k_vec,h_vec_DeltaK0, h_vec_DeltaH0\n",
    "\n",
    "k_vec,h_vec_DeltaK0, h_vec_DeltaH0 = solve_ss(sh,sk,g,n,alpha,phi,delta)\n",
    "\n",
    "\n",
    "#Create the plot\n",
    "fig = plt.figure(figsize=(13,5))\n",
    "ax = fig.add_subplot(1,2,1)\n",
    "ax.plot(k_vec,h_vec_DeltaK0, label=r'$\\Delta \\tilde{k}=0$', c='#005c2b')\n",
    "ax.plot(k_vec,h_vec_DeltaH0, label=r'$\\Delta \\tilde{h}=0$', c='#61ba89')\n",
    "ax.set_xlabel(r'$\\tilde{k}$')\n",
    "ax.set_ylabel(r'$\\tilde{h}$')\n",
    "ax.legend() \n",
    "plt.scatter(sol.x[1],sol.x[0],color='black',s=80,zorder=2.5) #We mark the steady state\n",
    "plt.axvline(sol.x[1],ymax=0.45,color='gray',linestyle='--') #Line is drawn to mark ss-value on y-axis\n",
    "plt.axhline(sol.x[0],xmax=0.45,color='gray',linestyle='--') #Lines is drawn to mark ss-value on x-axis\n",
    "ax.text(0.35, 0.47, r'$\\tilde{k}^*, \\tilde{h}^*$', fontsize=12) #Text is added to the plot\n",
    "ax.set(xlim=(0, 1), ylim=(0, 1)) #The axis values are chosen\n",
    "ax.set_title('Phase diagram');"
   ]
  },
  {
   "cell_type": "markdown",
   "metadata": {},
   "source": [
    "We wish to see what happens, when the savings rate in human capital "
   ]
  },
  {
   "cell_type": "code",
   "execution_count": 461,
   "metadata": {},
   "outputs": [
    {
     "data": {
      "image/png": "[encoded data removed]",
      "text/plain": [
       "<Figure size 1296x504 with 1 Axes>"
      ]
     },
     "metadata": {
      "needs_background": "light"
     },
     "output_type": "display_data"
    }
   ],
   "source": [
    "k_vec1,h_vec_DeltaK01, h_vec_DeltaH01 = solve_ss(0.12,sk,g,n,alpha,phi,delta)\n",
    "\n",
    "analSolution2 = ss_func(0.12,sk,g,n,alpha,phi,delta)\n",
    "\n",
    "#Create the plot\n",
    "fig2 = plt.figure(figsize=(18,7))\n",
    "ax = fig2.add_subplot(1,2,1)\n",
    "ax.plot(k_vec,h_vec_DeltaK0, label=r'$\\Delta \\tilde{k}=0$', c='#005c2b')\n",
    "ax.plot(k_vec,h_vec_DeltaH0, label=r'$\\Delta \\tilde{h}=0$', c='#61ba89')\n",
    "ax.plot(k_vec1,h_vec_DeltaH01, label=r'$\\Delta \\tilde{h}´=0$', c='#a97ccc')\n",
    "ax.set_xlabel(r'$\\tilde{k}$')\n",
    "ax.set_ylabel(r'$\\tilde{h}$')\n",
    "ax.legend()\n",
    "plt.scatter(sol.x[1],sol.x[0],color='black',s=80,zorder=2.5) #We mark the first steady state\n",
    "plt.scatter(analSolution2[0],analSolution2[1],color='black',s=80,zorder=2.5) #We mark the other steady state\n",
    "plt.axvline(sol.x[1],ymax=0.45,color='gray',linestyle='--') #Line is drawn to mark the first ss-value on x-axis\n",
    "plt.axhline(sol.x[0],xmax=0.45,color='gray',linestyle='--') #Line is drawn to mark the first ss-value on y-axis\n",
    "plt.axvline(analSolution2[0],ymax=0.65,color='gray',linestyle='--') #Line is drawn to mark the other ss-value on x-axis\n",
    "plt.axhline(analSolution2[1],xmax=0.55,color='gray',linestyle='--') #Line is drawn to mark the other ss-value on y-axis\n",
    "ax.text(0.39, 0.47, r'$\\tilde{k}^*, \\tilde{h}^*$', fontsize=12) #Text is added to the plot\n",
    "ax.text(0.44, 0.66, r'$\\tilde{k}^*´, \\tilde{h}^*$´', fontsize=12) #Text is added to the plot\n",
    "ax.set(xlim=(0, 1), ylim=(0, 1)) #The axis values are chosen\n",
    "ax.set_title('Phase diagram for $s_H$´ > $s_H$');"
   ]
  },
  {
   "cell_type": "markdown",
   "metadata": {},
   "source": [
    "We know that $\\tilde{y}_t^\\ast=\\tilde{k}_t^{\\ast \\alpha}\\tilde{h}_t^{\\ast \\varphi}$"
   ]
  },
  {
   "cell_type": "code",
   "execution_count": 462,
   "metadata": {},
   "outputs": [
    {
     "name": "stdout",
     "output_type": "stream",
     "text": [
      "0.5898995047203758\n"
     ]
    }
   ],
   "source": [
    "#We define the y steady state function\n",
    "def y_ss(sh,sk,g,n,alpha,phi,delta):\n",
    "    return ((sk**alpha*sh**(1-alpha))/(n+g+n*g+delta))**(alpha/(1-alpha-phi))*((sk**(1-phi)*sh**phi)/(n+g+n*g+delta))**(phi/(1-alpha-phi))\n",
    "\n",
    "print(y_ss(sh,sk,g,n,alpha,phi,delta))\n",
    "\n",
    "#We define the steady state function for c\n",
    "def c_ss(sh,sk,g,n,alpha,phi,delta):\n",
    "    return (1-sk-sh)*((sk**alpha*sh**(1-alpha))/(n+g+n*g+delta))**(alpha/(1-alpha-phi))*((sk**(1-phi)*sh**phi)/(n+g+n*g+delta))**(phi/(1-alpha-phi)\n",
    "                                                                                                                                )"
   ]
  },
  {
   "cell_type": "code",
   "execution_count": 471,
   "metadata": {},
   "outputs": [
    {
     "data": {
      "image/png": "[encoded data removed]",
      "text/plain": [
       "<Figure size 936x360 with 1 Axes>"
      ]
     },
     "metadata": {
      "needs_background": "light"
     },
     "output_type": "display_data"
    }
   ],
   "source": [
    "#We create a plot to show the variation in c when sh changes, all things equal\n",
    "\n",
    "#we make an empty list to collect the differenc c-values\n",
    "c_nums = []\n",
    "\n",
    "for i in np.arange(0,0.9,0.01):\n",
    "    c_nums.append(c_ss(i,sk,g,n,alpha,phi,delta))\n",
    "\n",
    "fig = plt.figure(figsize=(13,5))\n",
    "ax = fig.add_subplot(1,2,1)\n",
    "ax.plot(c_nums)\n",
    "ax.set_title('$c^*$ for different $s_H$');"
   ]
  },
  {
   "cell_type": "code",
   "execution_count": 464,
   "metadata": {},
   "outputs": [
    {
     "name": "stdout",
     "output_type": "stream",
     "text": [
      "1.1945464970587605\n"
     ]
    }
   ],
   "source": [
    "print(max(c_nums))\n",
    "\n",
    "maxc=max(c_nums)\n",
    "\n",
    "x = sm.Symbol('x')\n",
    "#c_diff = sm.diff((1-sk-x)*((sk**alpha*x**(1-alpha))/(n+g+n*g+delta))**(alpha/(1-alpha-phi))*((sk**(1-phi)*x**phi)/(n+g+n*g+delta))**(phi/(1-alpha-phi)),x)"
   ]
  },
  {
   "cell_type": "code",
   "execution_count": 480,
   "metadata": {},
   "outputs": [
    {
     "data": {
      "image/png": "[encoded data removed]",
      "text/latex": [
       "$\\displaystyle \\left[ 0.45 - 1.02932137838481 \\cdot 10^{-8} i, \\  0.45 + 1.02932137838481 \\cdot 10^{-8} i\\right]$"
      ],
      "text/plain": [
       "[0.45 - 1.02932137838481e-8⋅ⅈ, 0.45 + 1.02932137838481e-8⋅ⅈ]"
      ]
     },
     "execution_count": 480,
     "metadata": {},
     "output_type": "execute_result"
    }
   ],
   "source": [
    "solve((1-sk-x)*((sk**alpha*x**(1-alpha))/(n+g+n*g+delta))**(alpha/(1-alpha-phi))*((sk**(1-phi)*x**phi)/(n+g+n*g+delta))**(phi/(1-alpha-phi))-maxc,x)"
   ]
  },
  {
   "cell_type": "markdown",
   "metadata": {},
   "source": [
    "# Conclusion"
   ]
  },
  {
   "cell_type": "markdown",
   "metadata": {},
   "source": [
    "HOMO = GODT"
   ]
  }
 ],
 "metadata": {
  "kernelspec": {
   "display_name": "Python 3",
   "language": "python",
   "name": "python3"
  },
  "language_info": {
   "codemirror_mode": {
    "name": "ipython",
    "version": 3
   },
   "file_extension": ".py",
   "mimetype": "text/x-python",
   "name": "python",
   "nbconvert_exporter": "python",
   "pygments_lexer": "ipython3",
   "version": "3.7.4"
  },
  "toc-autonumbering": true
 },
 "nbformat": 4,
 "nbformat_minor": 4
}
