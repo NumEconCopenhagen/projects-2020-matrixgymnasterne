{
 "cells": [
  {
   "cell_type": "markdown",
   "metadata": {},
   "source": [
    "# YOUR PROJECT TITLE"
   ]
  },
  {
   "cell_type": "markdown",
   "metadata": {},
   "source": [
    "> **Note the following:** \n",
    "> 1. This is *not* meant to be an example of an actual **model analysis project**, just an example of how to structure such a project.\n",
    "> 1. Remember the general advice on structuring and commenting your code from [lecture 5](https://numeconcopenhagen.netlify.com/lectures/Workflow_and_debugging).\n",
    "> 1. Remember this [guide](https://www.markdownguide.org/basic-syntax/) on markdown and (a bit of) latex.\n",
    "> 1. Turn on automatic numbering by clicking on the small icon on top of the table of contents in the left sidebar.\n",
    "> 1. The `modelproject.py` file includes a function which could be used multiple times in this notebook."
   ]
  },
  {
   "cell_type": "markdown",
   "metadata": {},
   "source": [
    "Imports and set magics:"
   ]
  },
  {
   "cell_type": "code",
   "execution_count": 5,
   "metadata": {},
   "outputs": [],
   "source": [
    "import numpy as np\n",
    "from scipy import optimize\n",
    "import sympy as sm\n",
    "sm.init_printing(use_unicode=True) # for pretty printing\n",
    "from IPython.display import display\n",
    "import matplotlib.pyplot as plt # baseline modul\n",
    "\n",
    "# autoreload modules when code is run\n",
    "%load_ext autoreload\n",
    "%autoreload 2\n",
    "\n",
    "# local modules\n",
    "import modelproject"
   ]
  },
  {
   "cell_type": "markdown",
   "metadata": {
    "toc-hr-collapsed": true
   },
   "source": [
    "# Model description"
   ]
  },
  {
   "cell_type": "markdown",
   "metadata": {},
   "source": [
    "> **Note:** If you are not that friendly with markdown and latex you can refer to an external document with the model description instead.\n",
    "\n",
    "We consider the **standard Solow-model** where:\n",
    "\n",
    "1. \n",
    "* $K_t$ is capital\n",
    "* $L_t$ is labor\n",
    "* $A_t$ is technology\n",
    "* $H_t$ is human capital\n",
    "* $Y_t = F(K_t,H_t,A_tL_t)$ is GDP\n",
    "\n",
    "**GDP** is defined as\n",
    "\n",
    "$ Y_{t}=K_{t}^{\\alpha}H_{t}^{\\varphi}(A_{t}L_{t})^{1-\\alpha-\\varphi} $\n",
    "\n",
    "The **real interest rate** consists of\n",
    "\n",
    "$ r_{t}=\\alpha\\left(\\dfrac{K_{t}}{A_{t}L_{t}}\\right)^{\\alpha-1}\\left(\\dfrac{H_{t}}{A_{t}L_{t}}\\right)^{\\varphi} $\n",
    "\n",
    "The **real wage** consists of\n",
    "\n",
    "$ r_{t}=\\alpha\\left(\\dfrac{K_{t}}{A_{t}L_{t}}\\right)^{\\alpha}\\left(\\dfrac{H_{t}}{A_{t}L_{t}}\\right)^{\\varphi}A_t $\n",
    "\n",
    "\n",
    "**Saving** is a constant fraction of GDP\n",
    "\n",
    "$ S_t = (s_H+s_K)Y_t,\\,s\\in(0,1) $\n",
    "\n",
    "such that **capital accumulates** according to\n",
    "\n",
    "$ K_{t+1}=s_{K}Y_t+(1-\\delta)K_{t}=sF(K_{t},H_{t},A_{t}L_{t})+(1-\\delta)K_{t}, \\delta \\in (0,1) $\n",
    "\n",
    "and **human capital accumulates** according to\n",
    "\n",
    "$ H_{t+1} = s_{H}Y_t+(1-\\delta)H_t $\n",
    "\n",
    "**Labour and technology accoumulates** as\n",
    "\n",
    "$ L_{t+1} = (1+n)L_t $\n",
    "\n",
    "$ A_{t+1} = (1+g)A_t $\n",
    "\n",
    "The **transition equations** then becomes\n",
    "\n",
    "$ \\tilde{k}_{t+1}= \\frac{1}{(1+n)(1+g)}[s_K\\tilde{k}_{t}^{\\alpha}\\tilde{h}_{t}^{\\varphi}+(1-\\delta)\\tilde{k}_{t}] $\n",
    "\n",
    "$ \\tilde{h}_{t+1}= \\frac{1}{(1+n)(1+g)}[s_H\\tilde{k}_{t}^{\\alpha}\\tilde{h}_{t}^{\\varphi}+(1-\\delta)\\tilde{h}_{t}] $\n",
    "\n",
    "\n",
    "where $\\tilde{k}_{t}= \\dfrac{K_t}{A_tL_t}$"
   ]
  },
  {
   "cell_type": "markdown",
   "metadata": {},
   "source": [
    "# Steady state"
   ]
  },
  {
   "cell_type": "markdown",
   "metadata": {},
   "source": [
    "## Analytical solution"
   ]
  },
  {
   "cell_type": "markdown",
   "metadata": {},
   "source": [
    "We can use **sympy** to find an analytical expression for the steady state, i.e. solve\n",
    "\n",
    "$$ \\tilde{k}^{\\ast}= \\frac{1}{(1+n)(1+g)}[s_K\\tilde{k}^{\\alpha\\ast}\\tilde{h}_{t}^{\\varphi\\ast}+(1-\\delta)\\tilde{k}^{\\ast}] $$\n",
    "\n",
    "and\n",
    "\n",
    "$$ \\tilde{h}^{\\ast}= \\frac{1}{(1+n)(1+g)}[s_K\\tilde{k}^{\\alpha\\ast}\\tilde{h}_{t}^{\\varphi\\ast}+(1-\\delta)\\tilde{h}^{\\ast}] $$"
   ]
  },
  {
   "cell_type": "markdown",
   "metadata": {},
   "source": [
    "First we define all **symbols**:"
   ]
  },
  {
   "cell_type": "code",
   "execution_count": 6,
   "metadata": {},
   "outputs": [],
   "source": [
    "k = sm.symbols('k')\n",
    "h = sm.symbols('h')\n",
    "alpha = sm.symbols('alpha')\n",
    "phi = sm.symbols('phi')\n",
    "delta = sm.symbols('delta')\n",
    "sh = sm.symbols('sh')\n",
    "sk = sm.symbols('sk')\n",
    "g = sm.symbols('g')\n",
    "n = sm.symbols('n')"
   ]
  },
  {
   "cell_type": "markdown",
   "metadata": {},
   "source": [
    "Then we define the **steady state equation**"
   ]
  },
  {
   "cell_type": "code",
   "execution_count": 7,
   "metadata": {},
   "outputs": [],
   "source": [
    "ss1 = sm.Eq(k,(sk*k**alpha*h**phi+(1-delta)*k)/((1+n)*(1+g)))\n",
    "ss2 = sm.Eq(h,(sh*k**alpha*h**phi+(1-delta)*h)/((1+n)*(1+g)))"
   ]
  },
  {
   "cell_type": "markdown",
   "metadata": {},
   "source": [
    "and **solve** it"
   ]
  },
  {
   "cell_type": "code",
   "execution_count": 8,
   "metadata": {},
   "outputs": [
    {
     "data": {
      "image/png": "[encoded data removed]",
      "text/latex": [
       "$\\displaystyle \\left( sh^{- \\frac{\\phi}{\\alpha + \\phi - 1}} \\left(sk^{\\phi - 1} \\left(\\delta + g n + g + n\\right)\\right)^{\\frac{1}{\\alpha + \\phi - 1}}, \\  \\left(\\frac{\\left(sh^{- \\frac{\\phi}{\\alpha + \\phi - 1}} \\left(sk^{\\phi - 1} \\left(\\delta + g n + g + n\\right)\\right)^{\\frac{1}{\\alpha + \\phi - 1}}\\right)^{- \\alpha} \\left(\\delta + g n + g + n\\right)}{sh}\\right)^{\\frac{1}{\\phi - 1}}\\right)$"
      ],
      "text/plain": [
       "⎛                                                                             \n",
       "⎜                                                                             \n",
       "⎜                                                                             \n",
       "⎜                                                  ⎛                          \n",
       "⎜                                                  ⎜⎛                         \n",
       "⎜                                           1      ⎜⎜     -φ                  \n",
       "⎜     -φ                                ─────────  ⎜⎜  ─────────              \n",
       "⎜  ─────────                            α + φ - 1  ⎜⎜  α + φ - 1 ⎛  φ - 1     \n",
       "⎜  α + φ - 1 ⎛  φ - 1                  ⎞           ⎜⎝sh         ⋅⎝sk     ⋅(δ +\n",
       "⎜sh         ⋅⎝sk     ⋅(δ + g⋅n + g + n)⎠         , ⎜──────────────────────────\n",
       "⎝                                                  ⎝                          \n",
       "\n",
       "                                               1  ⎞\n",
       "                                             ─────⎟\n",
       "                                             φ - 1⎟\n",
       "                        -α                  ⎞     ⎟\n",
       "                  1    ⎞                    ⎟     ⎟\n",
       "              ─────────⎟                    ⎟     ⎟\n",
       "              α + φ - 1⎟                    ⎟     ⎟\n",
       "             ⎞         ⎟                    ⎟     ⎟\n",
       " g⋅n + g + n)⎠         ⎠  ⋅(δ + g⋅n + g + n)⎟     ⎟\n",
       "────────────────────────────────────────────⎟     ⎟\n",
       "        sh                                  ⎠     ⎠"
      ]
     },
     "metadata": {},
     "output_type": "display_data"
    }
   ],
   "source": [
    "sss = sm.solve((ss1, ss2),(k,h))[0]\n",
    "display(sss)"
   ]
  },
  {
   "cell_type": "markdown",
   "metadata": {},
   "source": [
    "Which can be reduced to:"
   ]
  },
  {
   "cell_type": "markdown",
   "metadata": {},
   "source": [
    "$$\\tilde{k}^{\\ast}=\\left(\\dfrac{s_K^{1-\\varphi}s_H^{\\varphi}}{n+g+\\delta+ng}\\right)^{\\frac{1}{1-\\alpha-\\varphi}}$$\n",
    "\n",
    "and\n",
    "\n",
    "$$\\tilde{h}^{\\ast}=\\left(\\dfrac{s_K^{\\alpha}s_H^{1-\\alpha}}{n+g+\\delta+ng}\\right)^{\\frac{1}{1-\\alpha-\\varphi}}$$"
   ]
  },
  {
   "cell_type": "markdown",
   "metadata": {},
   "source": [
    "We turn the solution into a Python funciton"
   ]
  },
  {
   "cell_type": "code",
   "execution_count": 9,
   "metadata": {},
   "outputs": [],
   "source": [
    "ss_func = sm.lambdify((sh,sk,g,n,alpha,phi,delta),sss)"
   ]
  },
  {
   "cell_type": "markdown",
   "metadata": {},
   "source": [
    "## Numerical solution"
   ]
  },
  {
   "cell_type": "markdown",
   "metadata": {},
   "source": [
    "We can re-write the equation for the steady state capital and human capital per capita as\n",
    "\n",
    "\\\\[ 0 = \\left(\\dfrac{s_K^{1-\\varphi}s_H^{\\varphi}}{n+g+\\delta+ng}\\right)^{\\frac{1}{1-\\alpha-\\varphi}} - \\tilde{k}^{\\ast} \\\\]\n",
    "\n",
    "\\\\[ 0 = \\left(\\dfrac{s_K^{\\alpha}s_H^{1-\\alpha}}{n+g+\\delta+ng}\\right)^{\\frac{1}{1-\\alpha-\\varphi}} - \\tilde{h}^{\\ast} \\\\]\n",
    "\n",
    "\n",
    "whereby it clearly becomes a **root-finding problem**. Such a problem can be solved by a **bisection method**."
   ]
  },
  {
   "cell_type": "markdown",
   "metadata": {},
   "source": [
    "Define the model **parameters**:"
   ]
  },
  {
   "cell_type": "code",
   "execution_count": 63,
   "metadata": {},
   "outputs": [],
   "source": [
    "sh = 0.1\n",
    "sk = 0.2\n",
    "g = 0.02\n",
    "n = 0.01\n",
    "alpha = 1/3\n",
    "phi = 1/3\n",
    "delta = 0.1"
   ]
  },
  {
   "cell_type": "markdown",
   "metadata": {},
   "source": [
    "**Solve numerically** for the steady state:"
   ]
  },
  {
   "cell_type": "code",
   "execution_count": 125,
   "metadata": {},
   "outputs": [
    {
     "data": {
      "text/plain": [
       "array([0.90609957, 1.81219305])"
      ]
     },
     "execution_count": 125,
     "metadata": {},
     "output_type": "execute_result"
    }
   ],
   "source": [
    "def h_func(k,sh,sk,g,n,alpha,phi,delta,h):\n",
    "    return 1/((1+n)*(1+g))*(sh*k**(alpha)*h**(phi)+(1-delta)*h)-h\n",
    "\n",
    "def k_func(h,sh,sk,g,n,alpha,phi,delta,k):\n",
    "    return 1/((1+n)*(1+g))*(sk*k**(alpha)*h**(phi)+(1-delta)*k)-k\n",
    "\n",
    "obj1 = lambda x: [h_func(x[1],sh,sk,g,n,alpha,phi,delta,x[0]),k_func(x[0],sh,sk,g,n,alpha,phi,delta,x[1])]\n",
    "\n",
    "sol= optimize.root(obj1,[1,1],method='broyden1')\n",
    "\n",
    "sol.x"
   ]
  },
  {
   "cell_type": "code",
   "execution_count": 121,
   "metadata": {},
   "outputs": [
    {
     "name": "stdout",
     "output_type": "stream",
     "text": [
      "Analytical solution is: k* 1.812, h* 0.906\n",
      "Numerical solution is: k* 1.812, h* 0.906\n"
     ]
    }
   ],
   "source": [
    "analSolution = ss_func(sh,sk,g,n,alpha,phi,delta)\n",
    "nummiSolution = sol.x\n",
    "\n",
    "print(f'Analytical solution is: k* {analSolution[0]:.3f}, h* {analSolution[1]:.3f}')\n",
    "print(f'Numerical solution is: k* {nummiSolution[1]:.3f}, h* {nummiSolution[0]:.3f}')\n"
   ]
  },
  {
   "cell_type": "markdown",
   "metadata": {},
   "source": [
    "# Further analysis"
   ]
  },
  {
   "cell_type": "code",
   "execution_count": 180,
   "metadata": {},
   "outputs": [
    {
     "data": {
      "image/png": "[encoded data removed]",
      "text/plain": [
       "<Figure size 864x360 with 1 Axes>"
      ]
     },
     "metadata": {
      "needs_background": "light"
     },
     "output_type": "display_data"
    }
   ],
   "source": [
    "def solve_ss(sh,sk,g,n,alpha,phi,delta):\n",
    "\n",
    "    # a. grids\n",
    "    k_vec = np.linspace(1e-4,3,500)\n",
    "    h_vec_DeltaK0 = np.empty(500)\n",
    "    h_vec_DeltaH0  = np.empty(500)\n",
    "    \n",
    "    # b. solve for each m2 in grid\n",
    "    for i,k in enumerate(k_vec):\n",
    "        #Solve for delta_h=0\n",
    "        \n",
    "        # i. objective\n",
    "        obj = lambda h: -h_func(k,sh,sk,g,n,alpha,phi,delta,h)\n",
    "\n",
    "        # iii. optimizer\n",
    "        result = optimize.root_scalar(obj,method='brentq',bracket=[1e-20,50])\n",
    "        \n",
    "        h_vec_DeltaH0[i] = result.root\n",
    "\n",
    "       \n",
    "        #Solve for delta_k=0\n",
    "        # i. objective\n",
    "        obj = lambda h: -k_func(h,sh,sk,g,n,alpha,phi,delta,k)\n",
    "\n",
    "        # iii. optimizer\n",
    "        result = optimize.root_scalar(obj,method='brentq',bracket=[1e-20,50])\n",
    "\n",
    "        h_vec_DeltaK0[i] = result.root\n",
    "\n",
    "    return k_vec,h_vec_DeltaK0, h_vec_DeltaH0\n",
    "\n",
    "k_vec,h_vec_DeltaK0, h_vec_DeltaH0 = solve_ss(sh,sk,g,n,alpha,phi,delta)\n",
    "\n",
    "\n",
    "#Create the plot\n",
    "fig = plt.figure(figsize=(12,5))\n",
    "ax = fig.add_subplot(1,2,1)\n",
    "ax.plot(k_vec,h_vec_DeltaK0, label=r'$\\Delta \\tilde{k}$')\n",
    "ax.plot(k_vec,h_vec_DeltaH0, label=r'$\\Delta \\tilde{h}$')\n",
    "plt.scatter(sol.x[1],sol.x[0],color='black',s=80,zorder=2.5)\n",
    "plt.axvline(sol.x[1],ymax=0.38,color='gray',linestyle='--')\n",
    "plt.axhline(sol.x[0],xmax=0.6,color='gray',linestyle='--')\n",
    "ax.text(1.45, 0.98, r'$\\tilde{k}^*, \\tilde{h}^*$', fontsize=12)\n",
    "ax.set_xlabel(r'$\\tilde{k}$')\n",
    "ax.set_ylabel('$h$')\n",
    "ax.legend()\n",
    "ax.set_title('Fasediagram');"
   ]
  },
  {
   "cell_type": "markdown",
   "metadata": {},
   "source": [
    "# Conclusion"
   ]
  },
  {
   "cell_type": "markdown",
   "metadata": {},
   "source": [
    "ADD CONCISE CONCLUSION."
   ]
  }
 ],
 "metadata": {
  "kernelspec": {
   "display_name": "Python 3",
   "language": "python",
   "name": "python3"
  },
  "language_info": {
   "codemirror_mode": {
    "name": "ipython",
    "version": 3
   },
   "file_extension": ".py",
   "mimetype": "text/x-python",
   "name": "python",
   "nbconvert_exporter": "python",
   "pygments_lexer": "ipython3",
   "version": "3.7.4"
  },
  "toc-autonumbering": true
 },
 "nbformat": 4,
 "nbformat_minor": 4
}
