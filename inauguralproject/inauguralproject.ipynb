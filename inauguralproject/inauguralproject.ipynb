{
 "cells": [
  {
   "cell_type": "markdown",
   "metadata": {},
   "source": [
    "# Inaugural Project"
   ]
  },
  {
   "cell_type": "markdown",
   "metadata": {},
   "source": [
    "Imports and set magics:"
   ]
  },
  {
   "cell_type": "code",
   "execution_count": 8,
   "metadata": {},
   "outputs": [
    {
     "name": "stdout",
     "output_type": "stream",
     "text": [
      "The autoreload extension is already loaded. To reload it, use:\n",
      "  %reload_ext autoreload\n"
     ]
    }
   ],
   "source": [
    "import numpy as np\n",
    "import math\n",
    "from scipy import optimize\n",
    "import matplotlib.pyplot as plt\n",
    "\n",
    "# autoreload modules when code is run\n",
    "%load_ext autoreload\n",
    "%autoreload 2\n",
    "\n",
    "# local modules\n",
    "import inauguralproject"
   ]
  },
  {
   "cell_type": "markdown",
   "metadata": {
    "toc-hr-collapsed": true
   },
   "source": [
    "# Question 1"
   ]
  },
  {
   "cell_type": "code",
   "execution_count": 9,
   "metadata": {},
   "outputs": [
    {
     "name": "stdout",
     "output_type": "stream",
     "text": [
      "Optimal labour supply: 0.4\n",
      "Optimal consumption: 1.24\n",
      "Utility: 0.17\n"
     ]
    }
   ],
   "source": [
    "#The parameters are defined\n",
    "m=1 #cash on hand\n",
    "t0=0.4 #standard labour income tax\n",
    "t1=0.1 #top bracket labour income tax\n",
    "k=0.4 #cut off for the top labour income bracket\n",
    "w=1 #wage rate\n",
    "epsilon=0.3 #Frisch elasticity of labour supply\n",
    "v=10 #scales the disutility of labour\n",
    "l = range(0,1) #labour supply\n",
    "\n",
    "#The utily function is defined\n",
    "def ufunc(l,x,v=10,epsilon=0.3):\n",
    "    \"\"\" \n",
    "    Args:\n",
    "        x (float): equals consumption\n",
    "        l (float): labor supply\n",
    "        v (float): disutility of labour\n",
    "        epsilon (float): frisch elasticity of labor supply\n",
    "    \n",
    "    Returns:\n",
    "        The utility function\n",
    "    \"\"\"\n",
    "    return np.log(x)-v*((l**(1+1/epsilon))/(1+1/epsilon))\n",
    "\n",
    "#Defining a function to minimize and including the constraint\n",
    "def value_of_choice(l,x,m,w,t0,t1,k,v,epsilon):\n",
    "    \"\"\" \n",
    "    Args:\n",
    "        l (float): labor supply\n",
    "        x (float): total ressources\n",
    "        m (int): cash on hand\n",
    "        w (int): wage rate\n",
    "        t0 (float): standard labour income tax\n",
    "        t1 (float): tob bracket labour income tax\n",
    "        k (float): cut off for the top labour income bracket\n",
    "        v (float): disutility of labour\n",
    "        epsilon (float): frisch elasticity of labor supply\n",
    "    \n",
    "    Returns:\n",
    "        The negative utility as a function of total ressources\n",
    "    \"\"\"\n",
    "    x = m + w*l-(t0*w*l + t1*np.fmax(w*l-k,0))\n",
    "    return -ufunc(l,x,v,epsilon)\n",
    "\n",
    "\n",
    "#The negative utility function is minimized and thereby the utility function is maximized\n",
    "sol_case1 = optimize.minimize_scalar(\n",
    "    value_of_choice,l,method='bounded',\n",
    "    bounds=(0,1),args=(l,m,w,t0,t1,k,v,epsilon))\n",
    "\n",
    "#The solution is unpacked\n",
    "l = sol_case1.x\n",
    "x = m + w*l-(t0*w*l + t1*np.fmax(w*l-k,0))\n",
    "u = ufunc(l,x,v=10,epsilon=0.3)\n",
    "\n",
    "consumer_optimum = [l,x,u]\n",
    "\n",
    "\n",
    "print(f'Optimal labour supply: {l:.1f}')\n",
    "print(f'Optimal consumption: {x:.2f}')\n",
    "print(f'Utility: {u:.2f}')"
   ]
  },
  {
   "cell_type": "markdown",
   "metadata": {},
   "source": [
    "# Question 2"
   ]
  },
  {
   "cell_type": "code",
   "execution_count": 10,
   "metadata": {},
   "outputs": [
    {
     "data": {
      "text/plain": [
       "<function matplotlib.pyplot.show(*args, **kw)>"
      ]
     },
     "execution_count": 10,
     "metadata": {},
     "output_type": "execute_result"
    },
    {
     "data": {
      "image/png": "[encoded data removed]",
      "text/plain": [
       "<Figure size 720x288 with 2 Axes>"
      ]
     },
     "metadata": {},
     "output_type": "display_data"
    }
   ],
   "source": [
    "#We choose the number of individuals to be 10,000\n",
    "N=10000\n",
    "\n",
    "#The interval for w is chosen and empty arrays are made for the variables\n",
    "w_values = np.linspace(0.5,1.5,N)\n",
    "l_values = np.empty(N)\n",
    "x_values = np.empty(N)\n",
    "\n",
    "#The constraint is defined\n",
    "def constraint(l,w):\n",
    "    \"\"\" \n",
    "    Args:\n",
    "        l (float): labor supply\n",
    "        w (int): wage rate\n",
    "    \n",
    "    Returns:\n",
    "        The budget constraint\n",
    "    \"\"\"\n",
    "    cons = m + w*l-(t0*w*l + t1*np.fmax(w*l-k,0))\n",
    "    return cons\n",
    "\n",
    "#A loop is created to generate results for the values of l and x w\n",
    "for i,w in enumerate(w_values):\n",
    "    result = optimize.minimize_scalar(value_of_choice,bounds=(0,1),args=(l,m,w,t0,t1,k,v,epsilon),method=\"bounded\")\n",
    "    l_values[i] = result.x #Optimal labour supply\n",
    "    x_values[i] = constraint(l_values[i],w) #Optimal consumption\n",
    "\n",
    "#Create the plot\n",
    "plt.style.use('seaborn-white')\n",
    "fig = plt.figure(figsize=(10,4))\n",
    "\n",
    "#l^star as a function of w is plotted\n",
    "ax_left = fig.add_subplot(1,2,1)\n",
    "ax_left.plot(w_values,l_values)\n",
    "\n",
    "ax_left.set_xlabel('$w$')\n",
    "ax_left.set_ylabel('$\\ell^\\star$')\n",
    "ax_left.set_title('$\\ell^\\star$ for a given $w$')\n",
    "\n",
    "#c^star as a function of w is plotted\n",
    "ax_right = fig.add_subplot(1,2,2)\n",
    "ax_right.plot(w_values,x_values)\n",
    "ax_right.set_xlabel('$w$')\n",
    "ax_right.set_ylabel('$c^\\star$')\n",
    "ax_right.set_title('$c^\\star$ for a given $w$')\n",
    "\n",
    "plt.show"
   ]
  },
  {
   "cell_type": "markdown",
   "metadata": {},
   "source": [
    "# Question 3"
   ]
  },
  {
   "cell_type": "code",
   "execution_count": 11,
   "metadata": {},
   "outputs": [
    {
     "name": "stdout",
     "output_type": "stream",
     "text": [
      "Total tax revenue: 1630.2 currency units\n"
     ]
    }
   ],
   "source": [
    "#The tax revenued is defined as the sum of revenues from each individual, N\n",
    "\n",
    "def tax(w_values,l_values,t0,t1,k,epsilon):\n",
    "    \"\"\" \n",
    "    Args:\n",
    "        w_values (array): wage rates\n",
    "        l_values: labor supply\n",
    "        t0 (float): standard labour income tax\n",
    "        t1 (float): tob bracket labour income tax\n",
    "        k (float): cut off for the top labour income bracket\n",
    "        epsilon (float): frisch elasticity of labor supply \n",
    "    \n",
    "    Returns:\n",
    "        The tax revenue\n",
    "    \"\"\"\n",
    "    for i,w in enumerate(w_values):\n",
    "        result = optimize.minimize_scalar(value_of_choice,bounds=(0,1),args=(l,m,w,t0,t1,k,v,epsilon),method=\"bounded\")\n",
    "        l_values[i] = result.x #Optimal labour supply\n",
    "        x_values[i] = constraint(l_values[i],w) #Optimal consumption\n",
    "        \n",
    "    revenue = np.sum(t0*w_values*l_values + t1*np.fmax(w_values*l_values-k,0))\n",
    "    return revenue\n",
    "\n",
    "print(f'Total tax revenue: {tax(w_values,l_values,t0,t1,k,epsilon):.1f} currency units')"
   ]
  },
  {
   "cell_type": "markdown",
   "metadata": {},
   "source": [
    "# Question 4"
   ]
  },
  {
   "cell_type": "code",
   "execution_count": 12,
   "metadata": {},
   "outputs": [
    {
     "name": "stdout",
     "output_type": "stream",
     "text": [
      "Total tax revenue for epsilon = 0.1: 3196.9 currency units\n"
     ]
    }
   ],
   "source": [
    "#The new value of elasticity is defined\n",
    "epsilon2=0.1\n",
    "\n",
    "print(f'Total tax revenue for epsilon = 0.1: {tax(w_values,l_values,t0,t1,k,epsilon2):.1f} currency units')"
   ]
  },
  {
   "cell_type": "markdown",
   "metadata": {},
   "source": [
    "# Question 5"
   ]
  },
  {
   "cell_type": "code",
   "execution_count": null,
   "metadata": {},
   "outputs": [],
   "source": [
    "#We define the negative tax function to optimize the variables t0, t1, kappa\n",
    "def taxfunc(x):\n",
    "    \"\"\" \n",
    "    Args:\n",
    "        x (list): contains optimal values for tax-related parameters\n",
    "    \n",
    "    Returns:\n",
    "        The negative tax revenue\n",
    "    \"\"\"\n",
    "    # we are now creating vectors x\n",
    "    tau0 = x[0]\n",
    "    tau1 = x[1]\n",
    "    kappa = x[2]\n",
    "    \n",
    "    return -tax(w_values,l_values,tau0,tau1,kappa,epsilon)\n",
    "\n",
    "#We define the bounds to use for optimisation\n",
    "bounds = ((0,1),(0,1),(0,1.5))\n",
    "\n",
    "#We define an array to contain our parameters \n",
    "x0 = np.array([t0,t1,k])\n",
    "\n",
    "#We solve the optimisation problem\n",
    "optimal_tax = optimize.minimize(taxfunc,x0,method='SLSQP',bounds=bounds,args=(),options={'disp':True})"
   ]
  },
  {
   "cell_type": "code",
   "execution_count": null,
   "metadata": {},
   "outputs": [],
   "source": [
    "#We define the optimal parameters\n",
    "tau0_op = optimal_tax.x[0]\n",
    "tau1_op = optimal_tax.x[1]\n",
    "kappa_op = optimal_tax.x[2]\n",
    "utility_op = -optimal_tax.fun\n",
    "\n",
    "#The result is printes\n",
    "print(f'tau0 = {tau0_op:.6f}')\n",
    "print(f'tau1 = {tau1_op:.6f}')\n",
    "print(f'kappa = {kappa_op:.1f}')\n",
    "print(f'utility = {utility_op:.4f}')"
   ]
  },
  {
   "cell_type": "markdown",
   "metadata": {},
   "source": [
    "# Conclusion"
   ]
  },
  {
   "cell_type": "markdown",
   "metadata": {},
   "source": [
    "From our results we can conclude that higher wages generally result in greater labour supply and consumption.\n",
    "It can be observed from the figures how the labour supply drops for a wage equal to 1, but after this it follows the same growth pattern.\n",
    "It is found that the tax revenue for the given parameters is equal to 1630.2, whereas the tax revenue with epsilon = 0.1 is around double that amount; 3196.9. Based on our initial guesses we advise the politician to choose a standard labour income tax of 78.54% and a top bracket labour income tax of approximately 0%. From this the politician would gain a tax revenue of 2466.86 currency units."
   ]
  },
  {
   "cell_type": "markdown",
   "metadata": {},
   "source": [
    "![test](https://media.giphy.com/media/13HgwGsXF0aiGY/source.gif)"
   ]
  }
 ],
 "metadata": {
  "kernelspec": {
   "display_name": "Python 3",
   "language": "python",
   "name": "python3"
  },
  "language_info": {
   "codemirror_mode": {
    "name": "ipython",
    "version": 3
   },
   "file_extension": ".py",
   "mimetype": "text/x-python",
   "name": "python",
   "nbconvert_exporter": "python",
   "pygments_lexer": "ipython3",
   "version": "3.7.4"
  },
  "toc-autonumbering": true
 },
 "nbformat": 4,
 "nbformat_minor": 4
}
